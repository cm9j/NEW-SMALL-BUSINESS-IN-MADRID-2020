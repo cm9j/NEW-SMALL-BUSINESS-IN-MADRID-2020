{
 "cells": [
  {
   "cell_type": "markdown",
   "metadata": {},
   "source": [
    "## A CASE OF STUDYING OF BEST LOCATIONS OF A SMALL BUSINESS OPENING USING DATA SCIENCE IN THE CITY OF MADRID."
   ]
  },
  {
   "cell_type": "markdown",
   "metadata": {},
   "source": [
    "_by Jesus A Molero Cano_"
   ]
  },
  {
   "cell_type": "markdown",
   "metadata": {},
   "source": [
    "### 0. Introduction"
   ]
  },
  {
   "cell_type": "markdown",
   "metadata": {},
   "source": [
    "Knowing where it is the best place to open a business in a city is a hard task. For this reason, by using DataScience tools, useful Data and the proper methodology we may find the answer for a specific city, in this case the city of Madrid."
   ]
  },
  {
   "cell_type": "markdown",
   "metadata": {},
   "source": [
    "At the end of this report, the possible small businesses owners will see what Districts of Madrid are more suitable to open a new business if we consider Real State Prices (Rental), possible customers (Area population) and competence (Number of other small businesses in the area)."
   ]
  },
  {
   "cell_type": "markdown",
   "metadata": {},
   "source": [
    "### 1. Data collection and sources"
   ]
  },
  {
   "cell_type": "markdown",
   "metadata": {},
   "source": [
    "For this Data Science project we prepare a Data collection plan. In this case we download the information from websites of the local Public Administration"
   ]
  },
  {
   "cell_type": "markdown",
   "metadata": {},
   "source": [
    "First of all, we obtain data from 'https://es.wikipedia.org/wiki/Anexo:Distritos_de_Madrid', from this webpage we obtain the different neighbourhoods of Madrid."
   ]
  },
  {
   "cell_type": "markdown",
   "metadata": {},
   "source": [
    "We obtain the second Source of information from 'https://www.idealista.com/sala-de-prensa/informes-precio-vivienda/venta/madrid-comunidad/madrid-provincia/madrid/' where we will find the different prices of real state of the different neighbourhoods and districts"
   ]
  },
  {
   "cell_type": "markdown",
   "metadata": {},
   "source": [
    "Finally, we obtain the third Source of information where we will find economic statistics of the different districts of Madrid and specifically its number of locals from 'https://www.madrid.es/UnidadesDescentralizadas/UDCEstadistica/Nuevaweb/Econom%C3%ADa/Empresas%20y%20Locales/censo/D2110320.xlxs'"
   ]
  },
  {
   "cell_type": "markdown",
   "metadata": {},
   "source": [
    "All of this together makes the Dataframe used for the purpose of this study"
   ]
  },
  {
   "cell_type": "markdown",
   "metadata": {},
   "source": [
    "### 2. Methodology"
   ]
  },
  {
   "cell_type": "markdown",
   "metadata": {},
   "source": [
    "1) Defining purpose and goal. We define the goal and scope of the problem to solve"
   ]
  },
  {
   "cell_type": "markdown",
   "metadata": {},
   "source": [
    "2) Data Collection. All data is downloaded and it is presented in different Pandas Dataframes"
   ]
  },
  {
   "cell_type": "markdown",
   "metadata": {},
   "source": [
    "3) Data preparation. Data is filtered and processed to create an unique Dataframe useful for the study purpose"
   ]
  },
  {
   "cell_type": "markdown",
   "metadata": {},
   "source": [
    "4) Data Analysis. We create and develop the algorithm. In this case, we use a K-means algorithm to determine the most suitable neighbourhoods to open a small business. The K-means algorithm will see the similarity of the districts in three key areas: Real State Prices, Possible customers and competitors in the area. As the comparison is defined we check for the clusters and centroid that presents a lower real state price for rental, more possible customers and less competitors in the area."
   ]
  },
  {
   "cell_type": "markdown",
   "metadata": {},
   "source": [
    "5) Study results & Conclusions. The results will be shown in a map, that will represent the most suitable areas to open a small business."
   ]
  },
  {
   "cell_type": "code",
   "execution_count": null,
   "metadata": {},
   "outputs": [],
   "source": []
  },
  {
   "cell_type": "code",
   "execution_count": null,
   "metadata": {},
   "outputs": [],
   "source": []
  },
  {
   "cell_type": "code",
   "execution_count": null,
   "metadata": {},
   "outputs": [],
   "source": []
  }
 ],
 "metadata": {
  "kernelspec": {
   "display_name": "Python 3",
   "language": "python",
   "name": "python3"
  },
  "language_info": {
   "codemirror_mode": {
    "name": "ipython",
    "version": 3
   },
   "file_extension": ".py",
   "mimetype": "text/x-python",
   "name": "python",
   "nbconvert_exporter": "python",
   "pygments_lexer": "ipython3",
   "version": "3.8.3"
  }
 },
 "nbformat": 4,
 "nbformat_minor": 4
}
